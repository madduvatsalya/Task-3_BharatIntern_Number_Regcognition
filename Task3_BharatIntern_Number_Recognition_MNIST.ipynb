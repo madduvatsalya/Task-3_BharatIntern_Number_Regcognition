{
  "nbformat": 4,
  "nbformat_minor": 0,
  "metadata": {
    "colab": {
      "provenance": [],
      "mount_file_id": "1qhytFnXgRCIiUOvOXRA5Sogy4YVhFWTm",
      "authorship_tag": "ABX9TyO5s0SWHbqI4vU0eEy1/ctP",
      "include_colab_link": true
    },
    "kernelspec": {
      "name": "python3",
      "display_name": "Python 3"
    },
    "language_info": {
      "name": "python"
    }
  },
  "cells": [
    {
      "cell_type": "markdown",
      "metadata": {
        "id": "view-in-github",
        "colab_type": "text"
      },
      "source": [
        "<a href=\"https://colab.research.google.com/github/madduvatsalya/Task-3_BharatIntern_Number_Regcognition/blob/main/Task3_BharatIntern_Number_Recognition_MNIST.ipynb\" target=\"_parent\"><img src=\"https://colab.research.google.com/assets/colab-badge.svg\" alt=\"Open In Colab\"/></a>"
      ]
    },
    {
      "cell_type": "markdown",
      "source": [
        "# **Number** **Recognition**"
      ],
      "metadata": {
        "id": "90GnvzrLIVAc"
      }
    },
    {
      "cell_type": "markdown",
      "source": [
        "MNIST stands for the \"Modified National Institute of Standards and Technology\" database. It is a well-known dataset used in the field of machine learning and computer vision. The dataset contains a large collection of grayscale images of handwritten digits from 0 to 9.\n",
        "\n",
        "The MNIST dataset is widely used as a benchmark in the machine learning community, particularly for testing and evaluating algorithms related to image recognition and classification. Each image in the dataset is a 28x28-pixel square, and the images are labeled with the corresponding digit they represent."
      ],
      "metadata": {
        "id": "pv3rykhIIOQu"
      }
    },
    {
      "cell_type": "code",
      "execution_count": 2,
      "metadata": {
        "id": "wU7lTfoIBlaZ"
      },
      "outputs": [],
      "source": [
        " # Warnings\n",
        "import warnings\n",
        "warnings.filterwarnings('ignore')\n",
        "\n",
        "# Libraries\n",
        "import numpy as np\n",
        "import pandas as pd\n",
        "import matplotlib.pyplot as plt\n",
        "import seaborn as sns\n",
        "import tensorflow as tf\n",
        "\n",
        "# Settings\n",
        "pd.set_option('display.max_columns', None)\n",
        "sns.set_style('whitegrid')\n",
        "%matplotlib inline"
      ]
    },
    {
      "cell_type": "markdown",
      "source": [
        "## Loading data"
      ],
      "metadata": {
        "id": "6mab40EcEzmo"
      }
    },
    {
      "cell_type": "markdown",
      "source": [],
      "metadata": {
        "id": "G9Iraj9wEzjR"
      }
    },
    {
      "cell_type": "code",
      "source": [
        "data = pd.read_csv(\"/content/drive/MyDrive/trainDigit.csv\")\n",
        "test = pd.read_csv(\"/content/drive/MyDrive/testDigit.csv\")\n",
        "submission = pd.read_csv(\"/content/drive/MyDrive/sample_submission.csv\")\n",
        "digits = data.drop(\"label\", axis = 1)"
      ],
      "metadata": {
        "id": "JahmjavFB8kj"
      },
      "execution_count": 4,
      "outputs": []
    },
    {
      "cell_type": "markdown",
      "source": [
        "## Ploting function"
      ],
      "metadata": {
        "id": "i6cidWzpE9zv"
      }
    },
    {
      "cell_type": "code",
      "source": [
        "def plot_number(data, index, prediction = False):\n",
        "\n",
        "    number = data.iloc[index].values.reshape(28, 28)\n",
        "\n",
        "    plt.figure(figsize = (3, 3))\n",
        "\n",
        "    sns.heatmap(number, cmap = 'Greys', cbar = False)\n",
        "\n",
        "    if prediction:\n",
        "\n",
        "        plt.title(f\"Model prediction: {prediction}\")\n",
        "\n",
        "    plt.plot();"
      ],
      "metadata": {
        "id": "lCJQesFAB9YB"
      },
      "execution_count": 5,
      "outputs": []
    },
    {
      "cell_type": "code",
      "source": [
        "plot_number(digits, 109)"
      ],
      "metadata": {
        "colab": {
          "base_uri": "https://localhost:8080/",
          "height": 298
        },
        "id": "u0o6MYzADSkq",
        "outputId": "49d42a38-8486-4b73-a699-64c61779f35e"
      },
      "execution_count": 6,
      "outputs": [
        {
          "output_type": "display_data",
          "data": {
            "text/plain": [
              "<Figure size 300x300 with 1 Axes>"
            ],
            "image/png": "[encoded data removed]"
          },
          "metadata": {}
        }
      ]
    },
    {
      "cell_type": "markdown",
      "source": [
        "## Scaling data"
      ],
      "metadata": {
        "id": "Wzcr7r_GGGoq"
      }
    },
    {
      "cell_type": "code",
      "source": [
        "def scale(label, images):\n",
        "\n",
        "    images = images / 255.\n",
        "\n",
        "    return pd.concat([label, images], axis = 1)"
      ],
      "metadata": {
        "id": "YPS2C6WXDVr5"
      },
      "execution_count": 8,
      "outputs": []
    },
    {
      "cell_type": "code",
      "source": [
        "data = scale(label = data['label'],\n",
        "             images = data.drop('label', axis = 1))"
      ],
      "metadata": {
        "id": "xeWXK0WoDaiv"
      },
      "execution_count": 9,
      "outputs": []
    },
    {
      "cell_type": "markdown",
      "source": [
        "## Create validation data"
      ],
      "metadata": {
        "id": "StM7kGvuGOc2"
      }
    },
    {
      "cell_type": "code",
      "source": [
        "from sklearn.model_selection import train_test_split\n",
        "\n",
        "y = data['label']\n",
        "X = data.drop('label', axis = 1)\n",
        "\n",
        "\n",
        "train, validation, train_target, validation_target = train_test_split(\n",
        "    X, y, test_size = 0.1, random_state = 42)"
      ],
      "metadata": {
        "id": "OkLaABu7DctF"
      },
      "execution_count": 10,
      "outputs": []
    },
    {
      "cell_type": "code",
      "source": [
        "data = pd.concat([train_target, train], axis = 1)\n",
        "validation = pd.concat([validation_target, validation], axis = 1)"
      ],
      "metadata": {
        "id": "ohD5ESZyDe9X"
      },
      "execution_count": 11,
      "outputs": []
    },
    {
      "cell_type": "markdown",
      "source": [
        "## Neural Network Outline"
      ],
      "metadata": {
        "id": "8m_be0C8GTdE"
      }
    },
    {
      "cell_type": "code",
      "source": [
        "INPUT_SIZE = 784\n",
        "OUTPUT_SIZE = 10\n",
        "HIDDEN_LAYER = 200\n",
        "\n",
        "model = tf.keras.Sequential([\n",
        "\n",
        "    tf.keras.layers.Flatten(input_shape = (28, 28, 1)), # input layer\n",
        "\n",
        "    tf.keras.layers.Dense(HIDDEN_LAYER, activation = 'relu'), # 1st hidden layer\n",
        "    tf.keras.layers.Dense(HIDDEN_LAYER, activation = 'relu'), # 2nd hidden layer\n",
        "    tf.keras.layers.Dense(HIDDEN_LAYER, activation = 'relu'), # 3rd hidden layer\n",
        "    tf.keras.layers.Dense(HIDDEN_LAYER, activation = 'relu'), # 4th hidden layer\n",
        "    tf.keras.layers.Dense(HIDDEN_LAYER, activation = 'relu'), # 5th hidden layer\n",
        "    tf.keras.layers.Dense(HIDDEN_LAYER, activation = 'relu'), # 6th hidden layer\n",
        "    tf.keras.layers.Dense(HIDDEN_LAYER, activation = 'relu'), # 7th hidden layer\n",
        "    tf.keras.layers.Dense(HIDDEN_LAYER, activation = 'relu'), # 8th hidden layer\n",
        "    tf.keras.layers.Dense(HIDDEN_LAYER, activation = 'relu'), # 9th hidden layer\n",
        "    tf.keras.layers.Dense(HIDDEN_LAYER, activation = 'relu'), # 10th hidden layer\n",
        "\n",
        "\n",
        "    tf.keras.layers.Dense(OUTPUT_SIZE, activation = 'softmax') # output layer\n",
        "])\n",
        "\n",
        "model.compile(optimizer = \"RMSprop\",\n",
        "              loss = 'sparse_categorical_crossentropy',\n",
        "              metrics = ['accuracy'])\n"
      ],
      "metadata": {
        "id": "Tw4kOXagDhDl"
      },
      "execution_count": 12,
      "outputs": []
    },
    {
      "cell_type": "code",
      "source": [
        "EARLY_STOP = tf.keras.callbacks.ReduceLROnPlateau(monitor = 'val_accuracy',\n",
        "                                            patience = 3,\n",
        "                                            verbose = 1,\n",
        "                                            factor = 0.5,\n",
        "                                            min_lr = 0.00001)"
      ],
      "metadata": {
        "id": "3qwDaBbnDkDY"
      },
      "execution_count": 13,
      "outputs": []
    },
    {
      "cell_type": "markdown",
      "source": [
        "## Training NN"
      ],
      "metadata": {
        "id": "r9-Z2pC-GYnW"
      }
    },
    {
      "cell_type": "code",
      "source": [
        "X = data.drop(\"label\", axis = 1).values.reshape(-1,28,28,1)\n",
        "y = data[\"label\"].values\n",
        "\n",
        "validation_X = validation.drop(\"label\", axis = 1).values.reshape(-1,28,28,1)\n",
        "validation_y = validation[\"label\"].values\n"
      ],
      "metadata": {
        "id": "tZ7knS4iDmYN"
      },
      "execution_count": 14,
      "outputs": []
    },
    {
      "cell_type": "code",
      "source": [
        "BATCH_SIZE = 128\n",
        "\n",
        "augmentation = tf.keras.preprocessing.image.ImageDataGenerator(\n",
        "        featurewise_center = False,\n",
        "        samplewise_center = False,\n",
        "        featurewise_std_normalization = False,\n",
        "        samplewise_std_normalization = False,\n",
        "        zca_whitening = False,\n",
        "        rotation_range = 10,\n",
        "        zoom_range = 0.1,\n",
        "        width_shift_range = 0.1,\n",
        "        height_shift_range = 0.1,\n",
        "        horizontal_flip = False,\n",
        "        vertical_flip = False)\n",
        "\n",
        "augmentation.fit(X)\n",
        "training_data = augmentation.flow(X, y, batch_size = BATCH_SIZE)"
      ],
      "metadata": {
        "id": "fZcXpt3ODo20"
      },
      "execution_count": 15,
      "outputs": []
    },
    {
      "cell_type": "code",
      "source": [
        "EPOCHS = 50\n",
        "EPOCH_STEP = X.shape[0] // BATCH_SIZE\n",
        "VALIDATION_STEP = validation_X.shape[0] // BATCH_SIZE\n",
        "\n",
        "model.fit(training_data, epochs = EPOCHS,\n",
        "          callbacks = [EARLY_STOP],\n",
        "          steps_per_epoch = EPOCH_STEP,\n",
        "          validation_data = (validation_X, validation_y),\n",
        "          validation_steps = VALIDATION_STEP,\n",
        "          verbose = 1)"
      ],
      "metadata": {
        "colab": {
          "base_uri": "https://localhost:8080/"
        },
        "id": "L3crVkTtDqud",
        "outputId": "8f47563a-958f-41c8-98e7-6de8885df19c"
      },
      "execution_count": 16,
      "outputs": [
        {
          "output_type": "stream",
          "name": "stdout",
          "text": [
            "Epoch 1/50\n",
            "295/295 [==============================] - 34s 107ms/step - loss: 1.1671 - accuracy: 0.5901 - val_loss: 0.3912 - val_accuracy: 0.8807 - lr: 0.0010\n",
            "Epoch 2/50\n",
            "295/295 [==============================] - 23s 79ms/step - loss: 0.4213 - accuracy: 0.8737 - val_loss: 0.5203 - val_accuracy: 0.8610 - lr: 0.0010\n",
            "Epoch 3/50\n",
            "295/295 [==============================] - 20s 68ms/step - loss: 0.2961 - accuracy: 0.9161 - val_loss: 0.2288 - val_accuracy: 0.9355 - lr: 0.0010\n",
            "Epoch 4/50\n",
            "295/295 [==============================] - 23s 77ms/step - loss: 0.2427 - accuracy: 0.9306 - val_loss: 0.1546 - val_accuracy: 0.9581 - lr: 0.0010\n",
            "Epoch 5/50\n",
            "295/295 [==============================] - 22s 72ms/step - loss: 0.2109 - accuracy: 0.9397 - val_loss: 0.1708 - val_accuracy: 0.9571 - lr: 0.0010\n",
            "Epoch 6/50\n",
            "295/295 [==============================] - 18s 62ms/step - loss: 0.1914 - accuracy: 0.9443 - val_loss: 0.1280 - val_accuracy: 0.9662 - lr: 0.0010\n",
            "Epoch 7/50\n",
            "295/295 [==============================] - 20s 68ms/step - loss: 0.1739 - accuracy: 0.9511 - val_loss: 0.1313 - val_accuracy: 0.9657 - lr: 0.0010\n",
            "Epoch 8/50\n",
            "295/295 [==============================] - 18s 62ms/step - loss: 0.1596 - accuracy: 0.9547 - val_loss: 0.1169 - val_accuracy: 0.9650 - lr: 0.0010\n",
            "Epoch 9/50\n",
            "295/295 [==============================] - 21s 73ms/step - loss: 0.1514 - accuracy: 0.9570 - val_loss: 0.1123 - val_accuracy: 0.9707 - lr: 0.0010\n",
            "Epoch 10/50\n",
            "295/295 [==============================] - 18s 61ms/step - loss: 0.1499 - accuracy: 0.9589 - val_loss: 0.1282 - val_accuracy: 0.9664 - lr: 0.0010\n",
            "Epoch 11/50\n",
            "295/295 [==============================] - 19s 64ms/step - loss: 0.1427 - accuracy: 0.9598 - val_loss: 0.1128 - val_accuracy: 0.9671 - lr: 0.0010\n",
            "Epoch 12/50\n",
            "295/295 [==============================] - 24s 80ms/step - loss: 0.1308 - accuracy: 0.9621 - val_loss: 0.0808 - val_accuracy: 0.9788 - lr: 0.0010\n",
            "Epoch 13/50\n",
            "295/295 [==============================] - 23s 77ms/step - loss: 0.1275 - accuracy: 0.9648 - val_loss: 0.0841 - val_accuracy: 0.9800 - lr: 0.0010\n",
            "Epoch 14/50\n",
            "295/295 [==============================] - 20s 69ms/step - loss: 0.1211 - accuracy: 0.9675 - val_loss: 0.1086 - val_accuracy: 0.9707 - lr: 0.0010\n",
            "Epoch 15/50\n",
            "295/295 [==============================] - 22s 76ms/step - loss: 0.1213 - accuracy: 0.9662 - val_loss: 0.0879 - val_accuracy: 0.9760 - lr: 0.0010\n",
            "Epoch 16/50\n",
            "295/295 [==============================] - ETA: 0s - loss: 0.1142 - accuracy: 0.9675\n",
            "Epoch 16: ReduceLROnPlateau reducing learning rate to 0.0005000000237487257.\n",
            "295/295 [==============================] - 18s 62ms/step - loss: 0.1142 - accuracy: 0.9675 - val_loss: 0.0852 - val_accuracy: 0.9738 - lr: 0.0010\n",
            "Epoch 17/50\n",
            "295/295 [==============================] - 20s 68ms/step - loss: 0.0844 - accuracy: 0.9757 - val_loss: 0.0832 - val_accuracy: 0.9798 - lr: 5.0000e-04\n",
            "Epoch 18/50\n",
            "295/295 [==============================] - 18s 62ms/step - loss: 0.0819 - accuracy: 0.9763 - val_loss: 0.0675 - val_accuracy: 0.9812 - lr: 5.0000e-04\n",
            "Epoch 19/50\n",
            "295/295 [==============================] - 18s 62ms/step - loss: 0.0778 - accuracy: 0.9780 - val_loss: 0.0597 - val_accuracy: 0.9819 - lr: 5.0000e-04\n",
            "Epoch 20/50\n",
            "295/295 [==============================] - 19s 64ms/step - loss: 0.0783 - accuracy: 0.9780 - val_loss: 0.0607 - val_accuracy: 0.9812 - lr: 5.0000e-04\n",
            "Epoch 21/50\n",
            "295/295 [==============================] - 18s 62ms/step - loss: 0.0730 - accuracy: 0.9787 - val_loss: 0.0691 - val_accuracy: 0.9819 - lr: 5.0000e-04\n",
            "Epoch 22/50\n",
            "295/295 [==============================] - ETA: 0s - loss: 0.0760 - accuracy: 0.9782\n",
            "Epoch 22: ReduceLROnPlateau reducing learning rate to 0.0002500000118743628.\n",
            "295/295 [==============================] - 18s 62ms/step - loss: 0.0760 - accuracy: 0.9782 - val_loss: 0.0672 - val_accuracy: 0.9800 - lr: 5.0000e-04\n",
            "Epoch 23/50\n",
            "295/295 [==============================] - 19s 64ms/step - loss: 0.0648 - accuracy: 0.9806 - val_loss: 0.0564 - val_accuracy: 0.9833 - lr: 2.5000e-04\n",
            "Epoch 24/50\n",
            "295/295 [==============================] - 18s 61ms/step - loss: 0.0598 - accuracy: 0.9830 - val_loss: 0.0518 - val_accuracy: 0.9848 - lr: 2.5000e-04\n",
            "Epoch 25/50\n",
            "295/295 [==============================] - 21s 73ms/step - loss: 0.0571 - accuracy: 0.9842 - val_loss: 0.0516 - val_accuracy: 0.9843 - lr: 2.5000e-04\n",
            "Epoch 26/50\n",
            "295/295 [==============================] - 19s 63ms/step - loss: 0.0554 - accuracy: 0.9842 - val_loss: 0.0490 - val_accuracy: 0.9864 - lr: 2.5000e-04\n",
            "Epoch 27/50\n",
            "295/295 [==============================] - 22s 73ms/step - loss: 0.0562 - accuracy: 0.9833 - val_loss: 0.0519 - val_accuracy: 0.9840 - lr: 2.5000e-04\n",
            "Epoch 28/50\n",
            "295/295 [==============================] - 23s 79ms/step - loss: 0.0584 - accuracy: 0.9831 - val_loss: 0.0529 - val_accuracy: 0.9838 - lr: 2.5000e-04\n",
            "Epoch 29/50\n",
            "295/295 [==============================] - ETA: 0s - loss: 0.0542 - accuracy: 0.9842\n",
            "Epoch 29: ReduceLROnPlateau reducing learning rate to 0.0001250000059371814.\n",
            "295/295 [==============================] - 23s 78ms/step - loss: 0.0542 - accuracy: 0.9842 - val_loss: 0.0525 - val_accuracy: 0.9838 - lr: 2.5000e-04\n",
            "Epoch 30/50\n",
            "295/295 [==============================] - 21s 70ms/step - loss: 0.0453 - accuracy: 0.9866 - val_loss: 0.0536 - val_accuracy: 0.9836 - lr: 1.2500e-04\n",
            "Epoch 31/50\n",
            "295/295 [==============================] - 20s 68ms/step - loss: 0.0507 - accuracy: 0.9848 - val_loss: 0.0546 - val_accuracy: 0.9850 - lr: 1.2500e-04\n",
            "Epoch 32/50\n",
            "295/295 [==============================] - ETA: 0s - loss: 0.0470 - accuracy: 0.9861\n",
            "Epoch 32: ReduceLROnPlateau reducing learning rate to 6.25000029685907e-05.\n",
            "295/295 [==============================] - 24s 81ms/step - loss: 0.0470 - accuracy: 0.9861 - val_loss: 0.0507 - val_accuracy: 0.9850 - lr: 1.2500e-04\n",
            "Epoch 33/50\n",
            "295/295 [==============================] - 18s 62ms/step - loss: 0.0460 - accuracy: 0.9863 - val_loss: 0.0502 - val_accuracy: 0.9845 - lr: 6.2500e-05\n",
            "Epoch 34/50\n",
            "295/295 [==============================] - 19s 64ms/step - loss: 0.0443 - accuracy: 0.9870 - val_loss: 0.0511 - val_accuracy: 0.9848 - lr: 6.2500e-05\n",
            "Epoch 35/50\n",
            "294/295 [============================>.] - ETA: 0s - loss: 0.0448 - accuracy: 0.9866\n",
            "Epoch 35: ReduceLROnPlateau reducing learning rate to 3.125000148429535e-05.\n",
            "295/295 [==============================] - 19s 64ms/step - loss: 0.0447 - accuracy: 0.9866 - val_loss: 0.0511 - val_accuracy: 0.9850 - lr: 6.2500e-05\n",
            "Epoch 36/50\n",
            "295/295 [==============================] - 18s 62ms/step - loss: 0.0419 - accuracy: 0.9872 - val_loss: 0.0506 - val_accuracy: 0.9850 - lr: 3.1250e-05\n",
            "Epoch 37/50\n",
            "295/295 [==============================] - 19s 65ms/step - loss: 0.0435 - accuracy: 0.9870 - val_loss: 0.0497 - val_accuracy: 0.9848 - lr: 3.1250e-05\n",
            "Epoch 38/50\n",
            "294/295 [============================>.] - ETA: 0s - loss: 0.0413 - accuracy: 0.9876\n",
            "Epoch 38: ReduceLROnPlateau reducing learning rate to 1.5625000742147677e-05.\n",
            "295/295 [==============================] - 18s 61ms/step - loss: 0.0414 - accuracy: 0.9876 - val_loss: 0.0507 - val_accuracy: 0.9845 - lr: 3.1250e-05\n",
            "Epoch 39/50\n",
            "295/295 [==============================] - 19s 63ms/step - loss: 0.0415 - accuracy: 0.9870 - val_loss: 0.0504 - val_accuracy: 0.9845 - lr: 1.5625e-05\n",
            "Epoch 40/50\n",
            "295/295 [==============================] - 20s 67ms/step - loss: 0.0433 - accuracy: 0.9872 - val_loss: 0.0503 - val_accuracy: 0.9852 - lr: 1.5625e-05\n",
            "Epoch 41/50\n",
            "295/295 [==============================] - ETA: 0s - loss: 0.0390 - accuracy: 0.9879\n",
            "Epoch 41: ReduceLROnPlateau reducing learning rate to 1e-05.\n",
            "295/295 [==============================] - 18s 62ms/step - loss: 0.0390 - accuracy: 0.9879 - val_loss: 0.0503 - val_accuracy: 0.9850 - lr: 1.5625e-05\n",
            "Epoch 42/50\n",
            "295/295 [==============================] - 19s 65ms/step - loss: 0.0439 - accuracy: 0.9870 - val_loss: 0.0502 - val_accuracy: 0.9850 - lr: 1.0000e-05\n",
            "Epoch 43/50\n",
            "295/295 [==============================] - 18s 62ms/step - loss: 0.0411 - accuracy: 0.9870 - val_loss: 0.0502 - val_accuracy: 0.9848 - lr: 1.0000e-05\n",
            "Epoch 44/50\n",
            "295/295 [==============================] - 18s 62ms/step - loss: 0.0429 - accuracy: 0.9869 - val_loss: 0.0499 - val_accuracy: 0.9850 - lr: 1.0000e-05\n",
            "Epoch 45/50\n",
            "295/295 [==============================] - 20s 68ms/step - loss: 0.0426 - accuracy: 0.9870 - val_loss: 0.0494 - val_accuracy: 0.9850 - lr: 1.0000e-05\n",
            "Epoch 46/50\n",
            "295/295 [==============================] - 18s 62ms/step - loss: 0.0438 - accuracy: 0.9869 - val_loss: 0.0494 - val_accuracy: 0.9850 - lr: 1.0000e-05\n",
            "Epoch 47/50\n",
            "295/295 [==============================] - 18s 62ms/step - loss: 0.0430 - accuracy: 0.9866 - val_loss: 0.0490 - val_accuracy: 0.9850 - lr: 1.0000e-05\n",
            "Epoch 48/50\n",
            "295/295 [==============================] - 19s 65ms/step - loss: 0.0443 - accuracy: 0.9865 - val_loss: 0.0492 - val_accuracy: 0.9845 - lr: 1.0000e-05\n",
            "Epoch 49/50\n",
            "295/295 [==============================] - 18s 63ms/step - loss: 0.0382 - accuracy: 0.9878 - val_loss: 0.0499 - val_accuracy: 0.9845 - lr: 1.0000e-05\n",
            "Epoch 50/50\n",
            "295/295 [==============================] - 19s 66ms/step - loss: 0.0423 - accuracy: 0.9870 - val_loss: 0.0496 - val_accuracy: 0.9850 - lr: 1.0000e-05\n"
          ]
        },
        {
          "output_type": "execute_result",
          "data": {
            "text/plain": [
              "<keras.callbacks.History at 0x7cf0ca0f09d0>"
            ]
          },
          "metadata": {},
          "execution_count": 16
        }
      ]
    },
    {
      "cell_type": "code",
      "source": [
        "History = pd.DataFrame(model.history.history)\n",
        "\n",
        "fig, (ax1, ax2) = plt.subplots(ncols = 1, nrows = 2, figsize = (7, 4))\n",
        "\n",
        "History[['loss', 'val_loss']].plot(ax = ax1)\n",
        "ax1.set_title('loss vs. val_loss')\n",
        "ax1.set_ylim(top = 0.4)\n",
        "\n",
        "History[['accuracy', 'val_accuracy']].plot(ax = ax2)\n",
        "ax2.set_title('accuracy vs. val_accuracy')\n",
        "ax2.set_ylim(0.8)\n",
        "\n",
        "plt.tight_layout();"
      ],
      "metadata": {
        "colab": {
          "base_uri": "https://localhost:8080/",
          "height": 407
        },
        "id": "jJg1XpNIDs2M",
        "outputId": "ed7d104d-a962-4706-e382-9507fd78302b"
      },
      "execution_count": 17,
      "outputs": [
        {
          "output_type": "display_data",
          "data": {
            "text/plain": [
              "<Figure size 700x400 with 2 Axes>"
            ],
            "image/png": "[encoded data removed]"
          },
          "metadata": {}
        }
      ]
    },
    {
      "cell_type": "markdown",
      "source": [
        "## Test the model"
      ],
      "metadata": {
        "id": "FqVQePo1Ggu7"
      }
    },
    {
      "cell_type": "code",
      "source": [
        "test_loss, test_accuracy = model.evaluate(x = validation_X, y = validation_y)"
      ],
      "metadata": {
        "colab": {
          "base_uri": "https://localhost:8080/"
        },
        "id": "lLGY8qA5Dxfq",
        "outputId": "54fbfe6f-0ffd-4ed6-a2fa-2acca40e7681"
      },
      "execution_count": 18,
      "outputs": [
        {
          "output_type": "stream",
          "name": "stdout",
          "text": [
            "132/132 [==============================] - 0s 3ms/step - loss: 0.0496 - accuracy: 0.9850\n"
          ]
        }
      ]
    },
    {
      "cell_type": "code",
      "source": [
        "print(f'Test loss {round(test_loss, 2)}. Test accuracy: {round(test_accuracy * 100, 2)}%')"
      ],
      "metadata": {
        "colab": {
          "base_uri": "https://localhost:8080/"
        },
        "id": "6IAxkcExDzje",
        "outputId": "cf7758f3-31f7-4c51-9b03-5f1504042d96"
      },
      "execution_count": 19,
      "outputs": [
        {
          "output_type": "stream",
          "name": "stdout",
          "text": [
            "Test loss 0.05. Test accuracy: 98.5%\n"
          ]
        }
      ]
    },
    {
      "cell_type": "markdown",
      "source": [
        "Predicting"
      ],
      "metadata": {
        "id": "JwzOxRjQGla3"
      }
    },
    {
      "cell_type": "code",
      "source": [
        "predictions = np.argmax(model.predict(validation_X), axis = 1)"
      ],
      "metadata": {
        "colab": {
          "base_uri": "https://localhost:8080/"
        },
        "id": "XNQZ15ibD2Ap",
        "outputId": "ec1a9493-c652-45b7-8728-e1f34a4d91b3"
      },
      "execution_count": 20,
      "outputs": [
        {
          "output_type": "stream",
          "name": "stdout",
          "text": [
            "132/132 [==============================] - 0s 3ms/step\n"
          ]
        }
      ]
    },
    {
      "cell_type": "code",
      "source": [
        "Preds = pd.DataFrame(\n",
        "    {\"Real Y\" : validation_y, \"Predicted Y\" : predictions}\n",
        ")\n",
        "\n",
        "Preds['Correct'] = Preds['Real Y'] == Preds['Predicted Y']"
      ],
      "metadata": {
        "id": "izPP6nfhD4M9"
      },
      "execution_count": 21,
      "outputs": []
    },
    {
      "cell_type": "code",
      "source": [
        "Preds['Correct'].map({True:\"Correct predictions\",\n",
        "                      False:\"Wrong predictions\"}).value_counts().plot(kind = 'bar');"
      ],
      "metadata": {
        "colab": {
          "base_uri": "https://localhost:8080/",
          "height": 548
        },
        "id": "G7kXK683D6wt",
        "outputId": "fb3a02a0-6d00-41e8-8c86-a80d1952d29b"
      },
      "execution_count": 22,
      "outputs": [
        {
          "output_type": "display_data",
          "data": {
            "text/plain": [
              "<Figure size 640x480 with 1 Axes>"
            ],
            "image/png": "[encoded data removed]"
          },
          "metadata": {}
        }
      ]
    },
    {
      "cell_type": "code",
      "source": [
        "Preds['Correct'].map({True:\"Correct predictions\",\n",
        "                      False:\"Wrong predictions\"}).value_counts().to_frame()"
      ],
      "metadata": {
        "colab": {
          "base_uri": "https://localhost:8080/",
          "height": 112
        },
        "id": "O4akiccgD8xt",
        "outputId": "06dea446-e2fb-42c8-e7ae-8c058f06c127"
      },
      "execution_count": 23,
      "outputs": [
        {
          "output_type": "execute_result",
          "data": {
            "text/plain": [
              "                     Correct\n",
              "Correct predictions     4137\n",
              "Wrong predictions         63"
            ],
            "text/html": [
              "\n",
              "\n",
              "  <div id=\"df-96e6d576-c516-4d90-98c6-51609fa01aaf\">\n",
              "    <div class=\"colab-df-container\">\n",
              "      <div>\n",
              "<style scoped>\n",
              "    .dataframe tbody tr th:only-of-type {\n",
              "        vertical-align: middle;\n",
              "    }\n",
              "\n",
              "    .dataframe tbody tr th {\n",
              "        vertical-align: top;\n",
              "    }\n",
              "\n",
              "    .dataframe thead th {\n",
              "        text-align: right;\n",
              "    }\n",
              "</style>\n",
              "<table border=\"1\" class=\"dataframe\">\n",
              "  <thead>\n",
              "    <tr style=\"text-align: right;\">\n",
              "      <th></th>\n",
              "      <th>Correct</th>\n",
              "    </tr>\n",
              "  </thead>\n",
              "  <tbody>\n",
              "    <tr>\n",
              "      <th>Correct predictions</th>\n",
              "      <td>4137</td>\n",
              "    </tr>\n",
              "    <tr>\n",
              "      <th>Wrong predictions</th>\n",
              "      <td>63</td>\n",
              "    </tr>\n",
              "  </tbody>\n",
              "</table>\n",
              "</div>\n",
              "      <button class=\"colab-df-convert\" onclick=\"convertToInteractive('df-96e6d576-c516-4d90-98c6-51609fa01aaf')\"\n",
              "              title=\"Convert this dataframe to an interactive table.\"\n",
              "              style=\"display:none;\">\n",
              "\n",
              "  <svg xmlns=\"http://www.w3.org/2000/svg\" height=\"24px\"viewBox=\"0 0 24 24\"\n",
              "       width=\"24px\">\n",
              "    <path d=\"M0 0h24v24H0V0z\" fill=\"none\"/>\n",
              "    <path d=\"M18.56 5.44l.94 2.06.94-2.06 2.06-.94-2.06-.94-.94-2.06-.94 2.06-2.06.94zm-11 1L8.5 8.5l.94-2.06 2.06-.94-2.06-.94L8.5 2.5l-.94 2.06-2.06.94zm10 10l.94 2.06.94-2.06 2.06-.94-2.06-.94-.94-2.06-.94 2.06-2.06.94z\"/><path d=\"M17.41 7.96l-1.37-1.37c-.4-.4-.92-.59-1.43-.59-.52 0-1.04.2-1.43.59L10.3 9.45l-7.72 7.72c-.78.78-.78 2.05 0 2.83L4 21.41c.39.39.9.59 1.41.59.51 0 1.02-.2 1.41-.59l7.78-7.78 2.81-2.81c.8-.78.8-2.07 0-2.86zM5.41 20L4 18.59l7.72-7.72 1.47 1.35L5.41 20z\"/>\n",
              "  </svg>\n",
              "      </button>\n",
              "\n",
              "\n",
              "\n",
              "    <div id=\"df-de263f9d-5e06-427d-9c1b-32dd2c35d540\">\n",
              "      <button class=\"colab-df-quickchart\" onclick=\"quickchart('df-de263f9d-5e06-427d-9c1b-32dd2c35d540')\"\n",
              "              title=\"Suggest charts.\"\n",
              "              style=\"display:none;\">\n",
              "\n",
              "<svg xmlns=\"http://www.w3.org/2000/svg\" height=\"24px\"viewBox=\"0 0 24 24\"\n",
              "     width=\"24px\">\n",
              "    <g>\n",
              "        <path d=\"M19 3H5c-1.1 0-2 .9-2 2v14c0 1.1.9 2 2 2h14c1.1 0 2-.9 2-2V5c0-1.1-.9-2-2-2zM9 17H7v-7h2v7zm4 0h-2V7h2v10zm4 0h-2v-4h2v4z\"/>\n",
              "    </g>\n",
              "</svg>\n",
              "      </button>\n",
              "    </div>\n",
              "\n",
              "<style>\n",
              "  .colab-df-quickchart {\n",
              "    background-color: #E8F0FE;\n",
              "    border: none;\n",
              "    border-radius: 50%;\n",
              "    cursor: pointer;\n",
              "    display: none;\n",
              "    fill: #1967D2;\n",
              "    height: 32px;\n",
              "    padding: 0 0 0 0;\n",
              "    width: 32px;\n",
              "  }\n",
              "\n",
              "  .colab-df-quickchart:hover {\n",
              "    background-color: #E2EBFA;\n",
              "    box-shadow: 0px 1px 2px rgba(60, 64, 67, 0.3), 0px 1px 3px 1px rgba(60, 64, 67, 0.15);\n",
              "    fill: #174EA6;\n",
              "  }\n",
              "\n",
              "  [theme=dark] .colab-df-quickchart {\n",
              "    background-color: #3B4455;\n",
              "    fill: #D2E3FC;\n",
              "  }\n",
              "\n",
              "  [theme=dark] .colab-df-quickchart:hover {\n",
              "    background-color: #434B5C;\n",
              "    box-shadow: 0px 1px 3px 1px rgba(0, 0, 0, 0.15);\n",
              "    filter: drop-shadow(0px 1px 2px rgba(0, 0, 0, 0.3));\n",
              "    fill: #FFFFFF;\n",
              "  }\n",
              "</style>\n",
              "\n",
              "    <script>\n",
              "      async function quickchart(key) {\n",
              "        const containerElement = document.querySelector('#' + key);\n",
              "        const charts = await google.colab.kernel.invokeFunction(\n",
              "            'suggestCharts', [key], {});\n",
              "      }\n",
              "    </script>\n",
              "\n",
              "      <script>\n",
              "\n",
              "function displayQuickchartButton(domScope) {\n",
              "  let quickchartButtonEl =\n",
              "    domScope.querySelector('#df-de263f9d-5e06-427d-9c1b-32dd2c35d540 button.colab-df-quickchart');\n",
              "  quickchartButtonEl.style.display =\n",
              "    google.colab.kernel.accessAllowed ? 'block' : 'none';\n",
              "}\n",
              "\n",
              "        displayQuickchartButton(document);\n",
              "      </script>\n",
              "      <style>\n",
              "    .colab-df-container {\n",
              "      display:flex;\n",
              "      flex-wrap:wrap;\n",
              "      gap: 12px;\n",
              "    }\n",
              "\n",
              "    .colab-df-convert {\n",
              "      background-color: #E8F0FE;\n",
              "      border: none;\n",
              "      border-radius: 50%;\n",
              "      cursor: pointer;\n",
              "      display: none;\n",
              "      fill: #1967D2;\n",
              "      height: 32px;\n",
              "      padding: 0 0 0 0;\n",
              "      width: 32px;\n",
              "    }\n",
              "\n",
              "    .colab-df-convert:hover {\n",
              "      background-color: #E2EBFA;\n",
              "      box-shadow: 0px 1px 2px rgba(60, 64, 67, 0.3), 0px 1px 3px 1px rgba(60, 64, 67, 0.15);\n",
              "      fill: #174EA6;\n",
              "    }\n",
              "\n",
              "    [theme=dark] .colab-df-convert {\n",
              "      background-color: #3B4455;\n",
              "      fill: #D2E3FC;\n",
              "    }\n",
              "\n",
              "    [theme=dark] .colab-df-convert:hover {\n",
              "      background-color: #434B5C;\n",
              "      box-shadow: 0px 1px 3px 1px rgba(0, 0, 0, 0.15);\n",
              "      filter: drop-shadow(0px 1px 2px rgba(0, 0, 0, 0.3));\n",
              "      fill: #FFFFFF;\n",
              "    }\n",
              "  </style>\n",
              "\n",
              "      <script>\n",
              "        const buttonEl =\n",
              "          document.querySelector('#df-96e6d576-c516-4d90-98c6-51609fa01aaf button.colab-df-convert');\n",
              "        buttonEl.style.display =\n",
              "          google.colab.kernel.accessAllowed ? 'block' : 'none';\n",
              "\n",
              "        async function convertToInteractive(key) {\n",
              "          const element = document.querySelector('#df-96e6d576-c516-4d90-98c6-51609fa01aaf');\n",
              "          const dataTable =\n",
              "            await google.colab.kernel.invokeFunction('convertToInteractive',\n",
              "                                                     [key], {});\n",
              "          if (!dataTable) return;\n",
              "\n",
              "          const docLinkHtml = 'Like what you see? Visit the ' +\n",
              "            '<a target=\"_blank\" href=https://colab.research.google.com/notebooks/data_table.ipynb>data table notebook</a>'\n",
              "            + ' to learn more about interactive tables.';\n",
              "          element.innerHTML = '';\n",
              "          dataTable['output_type'] = 'display_data';\n",
              "          await google.colab.output.renderOutput(dataTable, element);\n",
              "          const docLink = document.createElement('div');\n",
              "          docLink.innerHTML = docLinkHtml;\n",
              "          element.appendChild(docLink);\n",
              "        }\n",
              "      </script>\n",
              "    </div>\n",
              "  </div>\n"
            ]
          },
          "metadata": {},
          "execution_count": 23
        }
      ]
    },
    {
      "cell_type": "code",
      "source": [
        "for prediction in Preds[Preds['Correct'] == False].index:\n",
        "\n",
        "    plot_number(data = validation.drop(\"label\", axis = 1),\n",
        "                index = prediction,\n",
        "                prediction = Preds.iloc[prediction]['Predicted Y']);"
      ],
      "metadata": {
        "id": "x5q1lwbZEB8M"
      },
      "execution_count": null,
      "outputs": []
    },
    {
      "cell_type": "markdown",
      "source": [
        "## Creating submision"
      ],
      "metadata": {
        "id": "rsyeVMtcGoq_"
      }
    },
    {
      "cell_type": "code",
      "source": [
        "submission_predictions = np.argmax(model.predict(test.values.reshape(-1,28,28,1)), axis = 1)\n",
        "submission_predictions"
      ],
      "metadata": {
        "id": "SJ_jVuAoEDxg"
      },
      "execution_count": null,
      "outputs": []
    },
    {
      "cell_type": "code",
      "source": [
        "submission[\"Label\"] = submission_predictions"
      ],
      "metadata": {
        "id": "PTXFrFBuEFm8"
      },
      "execution_count": null,
      "outputs": []
    },
    {
      "cell_type": "code",
      "source": [
        "submission"
      ],
      "metadata": {
        "id": "JM3Laeu7EHw2"
      },
      "execution_count": null,
      "outputs": []
    },
    {
      "cell_type": "code",
      "source": [
        "plot_number(test, 0, '2')"
      ],
      "metadata": {
        "id": "c_M1uDCQEJbb"
      },
      "execution_count": null,
      "outputs": []
    },
    {
      "cell_type": "code",
      "source": [
        "submission.to_csv('submission.csv', index = False)"
      ],
      "metadata": {
        "id": "hWGQA1XlELT8"
      },
      "execution_count": null,
      "outputs": []
    }
  ]
}